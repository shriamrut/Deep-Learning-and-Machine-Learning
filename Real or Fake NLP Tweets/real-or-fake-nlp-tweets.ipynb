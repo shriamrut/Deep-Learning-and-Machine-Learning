{
 "cells": [
  {
   "cell_type": "code",
   "execution_count": 1,
   "metadata": {
    "_cell_guid": "79c7e3d0-c299-4dcb-8224-4455121ee9b0",
    "_uuid": "d629ff2d2480ee46fbb7e2d37f6b5fab8052498a",
    "scrolled": true
   },
   "outputs": [
    {
     "name": "stderr",
     "output_type": "stream",
     "text": [
      "Using TensorFlow backend.\n"
     ]
    }
   ],
   "source": [
    "import pandas as pd\n",
    "import matplotlib.pyplot as plt\n",
    "import tensorflow as tf\n",
    "import keras\n",
    "import numpy as np\n",
    "import nltk\n",
    "import numpy"
   ]
  },
  {
   "cell_type": "code",
   "execution_count": 2,
   "metadata": {
    "scrolled": true
   },
   "outputs": [],
   "source": [
    "train_df=pd.read_csv('/kaggle/input/nlp-getting-started/train.csv')\n",
    "test_df=pd.read_csv('/kaggle/input/nlp-getting-started/test.csv')"
   ]
  },
  {
   "cell_type": "code",
   "execution_count": 3,
   "metadata": {
    "scrolled": true
   },
   "outputs": [
    {
     "data": {
      "text/html": [
       "<div>\n",
       "<style scoped>\n",
       "    .dataframe tbody tr th:only-of-type {\n",
       "        vertical-align: middle;\n",
       "    }\n",
       "\n",
       "    .dataframe tbody tr th {\n",
       "        vertical-align: top;\n",
       "    }\n",
       "\n",
       "    .dataframe thead th {\n",
       "        text-align: right;\n",
       "    }\n",
       "</style>\n",
       "<table border=\"1\" class=\"dataframe\">\n",
       "  <thead>\n",
       "    <tr style=\"text-align: right;\">\n",
       "      <th></th>\n",
       "      <th>id</th>\n",
       "      <th>keyword</th>\n",
       "      <th>location</th>\n",
       "      <th>text</th>\n",
       "      <th>target</th>\n",
       "    </tr>\n",
       "  </thead>\n",
       "  <tbody>\n",
       "    <tr>\n",
       "      <th>0</th>\n",
       "      <td>1</td>\n",
       "      <td>NaN</td>\n",
       "      <td>NaN</td>\n",
       "      <td>Our Deeds are the Reason of this #earthquake M...</td>\n",
       "      <td>1</td>\n",
       "    </tr>\n",
       "    <tr>\n",
       "      <th>1</th>\n",
       "      <td>4</td>\n",
       "      <td>NaN</td>\n",
       "      <td>NaN</td>\n",
       "      <td>Forest fire near La Ronge Sask. Canada</td>\n",
       "      <td>1</td>\n",
       "    </tr>\n",
       "    <tr>\n",
       "      <th>2</th>\n",
       "      <td>5</td>\n",
       "      <td>NaN</td>\n",
       "      <td>NaN</td>\n",
       "      <td>All residents asked to 'shelter in place' are ...</td>\n",
       "      <td>1</td>\n",
       "    </tr>\n",
       "    <tr>\n",
       "      <th>3</th>\n",
       "      <td>6</td>\n",
       "      <td>NaN</td>\n",
       "      <td>NaN</td>\n",
       "      <td>13,000 people receive #wildfires evacuation or...</td>\n",
       "      <td>1</td>\n",
       "    </tr>\n",
       "    <tr>\n",
       "      <th>4</th>\n",
       "      <td>7</td>\n",
       "      <td>NaN</td>\n",
       "      <td>NaN</td>\n",
       "      <td>Just got sent this photo from Ruby #Alaska as ...</td>\n",
       "      <td>1</td>\n",
       "    </tr>\n",
       "  </tbody>\n",
       "</table>\n",
       "</div>"
      ],
      "text/plain": [
       "   id keyword location                                               text  \\\n",
       "0   1     NaN      NaN  Our Deeds are the Reason of this #earthquake M...   \n",
       "1   4     NaN      NaN             Forest fire near La Ronge Sask. Canada   \n",
       "2   5     NaN      NaN  All residents asked to 'shelter in place' are ...   \n",
       "3   6     NaN      NaN  13,000 people receive #wildfires evacuation or...   \n",
       "4   7     NaN      NaN  Just got sent this photo from Ruby #Alaska as ...   \n",
       "\n",
       "   target  \n",
       "0       1  \n",
       "1       1  \n",
       "2       1  \n",
       "3       1  \n",
       "4       1  "
      ]
     },
     "execution_count": 3,
     "metadata": {},
     "output_type": "execute_result"
    }
   ],
   "source": [
    "train_df.head()"
   ]
  },
  {
   "cell_type": "code",
   "execution_count": 4,
   "metadata": {
    "scrolled": true
   },
   "outputs": [
    {
     "data": {
      "text/html": [
       "<div>\n",
       "<style scoped>\n",
       "    .dataframe tbody tr th:only-of-type {\n",
       "        vertical-align: middle;\n",
       "    }\n",
       "\n",
       "    .dataframe tbody tr th {\n",
       "        vertical-align: top;\n",
       "    }\n",
       "\n",
       "    .dataframe thead th {\n",
       "        text-align: right;\n",
       "    }\n",
       "</style>\n",
       "<table border=\"1\" class=\"dataframe\">\n",
       "  <thead>\n",
       "    <tr style=\"text-align: right;\">\n",
       "      <th></th>\n",
       "      <th>id</th>\n",
       "      <th>keyword</th>\n",
       "      <th>location</th>\n",
       "      <th>text</th>\n",
       "    </tr>\n",
       "  </thead>\n",
       "  <tbody>\n",
       "    <tr>\n",
       "      <th>0</th>\n",
       "      <td>0</td>\n",
       "      <td>NaN</td>\n",
       "      <td>NaN</td>\n",
       "      <td>Just happened a terrible car crash</td>\n",
       "    </tr>\n",
       "    <tr>\n",
       "      <th>1</th>\n",
       "      <td>2</td>\n",
       "      <td>NaN</td>\n",
       "      <td>NaN</td>\n",
       "      <td>Heard about #earthquake is different cities, s...</td>\n",
       "    </tr>\n",
       "    <tr>\n",
       "      <th>2</th>\n",
       "      <td>3</td>\n",
       "      <td>NaN</td>\n",
       "      <td>NaN</td>\n",
       "      <td>there is a forest fire at spot pond, geese are...</td>\n",
       "    </tr>\n",
       "    <tr>\n",
       "      <th>3</th>\n",
       "      <td>9</td>\n",
       "      <td>NaN</td>\n",
       "      <td>NaN</td>\n",
       "      <td>Apocalypse lighting. #Spokane #wildfires</td>\n",
       "    </tr>\n",
       "    <tr>\n",
       "      <th>4</th>\n",
       "      <td>11</td>\n",
       "      <td>NaN</td>\n",
       "      <td>NaN</td>\n",
       "      <td>Typhoon Soudelor kills 28 in China and Taiwan</td>\n",
       "    </tr>\n",
       "  </tbody>\n",
       "</table>\n",
       "</div>"
      ],
      "text/plain": [
       "   id keyword location                                               text\n",
       "0   0     NaN      NaN                 Just happened a terrible car crash\n",
       "1   2     NaN      NaN  Heard about #earthquake is different cities, s...\n",
       "2   3     NaN      NaN  there is a forest fire at spot pond, geese are...\n",
       "3   9     NaN      NaN           Apocalypse lighting. #Spokane #wildfires\n",
       "4  11     NaN      NaN      Typhoon Soudelor kills 28 in China and Taiwan"
      ]
     },
     "execution_count": 4,
     "metadata": {},
     "output_type": "execute_result"
    }
   ],
   "source": [
    "test_df.head()"
   ]
  },
  {
   "cell_type": "code",
   "execution_count": 5,
   "metadata": {
    "scrolled": true
   },
   "outputs": [
    {
     "data": {
      "text/plain": [
       "fatalities               45\n",
       "deluge                   42\n",
       "armageddon               42\n",
       "harm                     41\n",
       "damage                   41\n",
       "                         ..\n",
       "forest%20fire            19\n",
       "epicentre                12\n",
       "threat                   11\n",
       "inundation               10\n",
       "radiation%20emergency     9\n",
       "Name: keyword, Length: 221, dtype: int64"
      ]
     },
     "execution_count": 5,
     "metadata": {},
     "output_type": "execute_result"
    }
   ],
   "source": [
    "train_df['keyword'].value_counts()"
   ]
  },
  {
   "cell_type": "code",
   "execution_count": 6,
   "metadata": {
    "scrolled": true
   },
   "outputs": [
    {
     "data": {
      "text/plain": [
       "USA                     104\n",
       "New York                 71\n",
       "United States            50\n",
       "London                   45\n",
       "Canada                   29\n",
       "                       ... \n",
       "World Wide!!              1\n",
       "Spring Grove, IL          1\n",
       "Madrid                    1\n",
       "St Austell, Cornwall      1\n",
       "taken by piper curda      1\n",
       "Name: location, Length: 3341, dtype: int64"
      ]
     },
     "execution_count": 6,
     "metadata": {},
     "output_type": "execute_result"
    }
   ],
   "source": [
    "train_df['location'].value_counts()"
   ]
  },
  {
   "cell_type": "code",
   "execution_count": 7,
   "metadata": {
    "scrolled": true
   },
   "outputs": [
    {
     "data": {
      "text/plain": [
       "61"
      ]
     },
     "execution_count": 7,
     "metadata": {},
     "output_type": "execute_result"
    }
   ],
   "source": [
    "train_df['keyword'].isnull().sum()"
   ]
  },
  {
   "cell_type": "code",
   "execution_count": 8,
   "metadata": {
    "scrolled": true
   },
   "outputs": [
    {
     "data": {
      "text/plain": [
       "2533"
      ]
     },
     "execution_count": 8,
     "metadata": {},
     "output_type": "execute_result"
    }
   ],
   "source": [
    "train_df['location'].isnull().sum()"
   ]
  },
  {
   "cell_type": "code",
   "execution_count": 9,
   "metadata": {
    "scrolled": true
   },
   "outputs": [
    {
     "data": {
      "text/plain": [
       "(7613, 5)"
      ]
     },
     "execution_count": 9,
     "metadata": {},
     "output_type": "execute_result"
    }
   ],
   "source": [
    "train_df.shape"
   ]
  },
  {
   "cell_type": "code",
   "execution_count": 10,
   "metadata": {
    "scrolled": true
   },
   "outputs": [
    {
     "data": {
      "text/plain": [
       "\"import re\\ntrain_df['text']=train_df['text'].apply(lambda x:re.sub(r'^http|https?:\\\\/\\\\/.*[\\r\\n]*','', x))\\ntrain_df['text']=train_df['text'].apply(lambda x:re.sub(r'#','', x))\\ntrain_df['text']=train_df['text'].apply(lambda x:re.sub(r'@','', x))\""
      ]
     },
     "execution_count": 10,
     "metadata": {},
     "output_type": "execute_result"
    }
   ],
   "source": [
    "'''import re\n",
    "train_df['text']=train_df['text'].apply(lambda x:re.sub(r'^http|https?:\\/\\/.*[\\r\\n]*','', x))\n",
    "train_df['text']=train_df['text'].apply(lambda x:re.sub(r'#','', x))\n",
    "train_df['text']=train_df['text'].apply(lambda x:re.sub(r'@','', x))'''"
   ]
  },
  {
   "cell_type": "code",
   "execution_count": 33,
   "metadata": {
    "scrolled": true
   },
   "outputs": [],
   "source": [
    "#ref https://towardsdatascience.com/creating-the-twitter-sentiment-analysis-program-in-python-with-naive-bayes-classification-672e5589a7ed\n",
    "import re\n",
    "from nltk.corpus import stopwords\n",
    "from nltk.stem import WordNetLemmatizer\n",
    "from nltk.stem.snowball import SnowballStemmer\n",
    "from string import punctuation\n",
    "class TweetPreprocessor:\n",
    "    def __init__(self):\n",
    "        self._stopwords=set(stopwords.words('english') + list(punctuation))\n",
    "    def preprocess(self,list_of_tweets):\n",
    "        processed_tweets=[]\n",
    "        for tweet in list_of_tweets:\n",
    "            processed_tweets.append(self.processtweet(tweet))\n",
    "        return processed_tweets\n",
    "    def processtweet(self,tweet):\n",
    "        tweet = tweet.lower()\n",
    "        tweet = re.sub('((www\\.[^\\s]+)|(https?://[^\\s]+))', 'URL', tweet) # remove URLs\n",
    "        tweet = re.sub('@[^\\s]+', 'AT_USER', tweet) # remove usernames\n",
    "        tweet = re.sub(r'#([^\\s]+)', r'\\1', tweet) # remove the # in #hashtag\n",
    "        #tweet = ''.join([word for word in tweet.split() if word not in self._stopwords]) \n",
    "        lemmatizer=WordNetLemmatizer()\n",
    "        tweet = lemmatizer.lemmatize(tweet,'v')\n",
    "        tweet = lemmatizer.lemmatize(tweet,'n')\n",
    "        # add ons\n",
    "        return tweet"
   ]
  },
  {
   "cell_type": "code",
   "execution_count": 34,
   "metadata": {
    "scrolled": true
   },
   "outputs": [],
   "source": [
    "tweetprocessor=TweetPreprocessor()\n",
    "preprocessed=tweetprocessor.preprocess(pd.concat([train_df['text'],test_df['text']]))\n",
    "preprocessed_text_train=tweetprocessor.preprocess(train_df['text'])\n",
    "preprocessed_text_test=tweetprocessor.preprocess(test_df['text'])"
   ]
  },
  {
   "cell_type": "code",
   "execution_count": 13,
   "metadata": {},
   "outputs": [],
   "source": [
    "from keras.preprocessing.text import Tokenizer\n",
    "from keras.preprocessing.sequence import pad_sequences\n",
    "MAX_WORDS_NUM=20000\n",
    "tokenizer=Tokenizer(num_words=MAX_WORDS_NUM)\n",
    "tokenizer.fit_on_texts(preprocessed)\n",
    "word_index=tokenizer.word_index"
   ]
  },
  {
   "cell_type": "code",
   "execution_count": 14,
   "metadata": {},
   "outputs": [
    {
     "name": "stdout",
     "output_type": "stream",
     "text": [
      "19558\n"
     ]
    }
   ],
   "source": [
    "print(len(word_index))"
   ]
  },
  {
   "cell_type": "code",
   "execution_count": 15,
   "metadata": {},
   "outputs": [
    {
     "name": "stdout",
     "output_type": "stream",
     "text": [
      "0    4342\n",
      "1    3271\n",
      "Name: target, dtype: int64\n"
     ]
    }
   ],
   "source": [
    "MAX_LEN=25\n",
    "sequences=tokenizer.texts_to_sequences(preprocessed_text_train)\n",
    "data=pad_sequences(sequences,maxlen=MAX_LEN)\n",
    "labels=train_df['target']\n",
    "print(labels.value_counts())"
   ]
  },
  {
   "cell_type": "code",
   "execution_count": 16,
   "metadata": {},
   "outputs": [],
   "source": [
    "from sklearn.model_selection import train_test_split\n",
    "X_train,X_test,Y_train,Y_test=train_test_split(data,np.array(list(labels)),test_size=0.2,random_state=123)"
   ]
  },
  {
   "cell_type": "code",
   "execution_count": 17,
   "metadata": {},
   "outputs": [],
   "source": [
    "embedding_index={}\n",
    "f=open('/kaggle/input/glove-global-vectors-for-word-representation/glove.6B.100d.txt')\n",
    "for line in f:\n",
    "    values=line.split()\n",
    "    word=values[0]\n",
    "    coefs=np.asarray(values[1:],dtype='float32')\n",
    "    embedding_index[word]=coefs"
   ]
  },
  {
   "cell_type": "code",
   "execution_count": 18,
   "metadata": {},
   "outputs": [],
   "source": [
    "EMBEDDING_DIM=100\n",
    "countz=0\n",
    "embedding_matrix=np.zeros((len(word_index)+1,EMBEDDING_DIM))\n",
    "for word,i in word_index.items():\n",
    "    embedding_vector=embedding_index.get(word)\n",
    "    if embedding_vector is not None:\n",
    "        embedding_matrix[i]=embedding_vector\n",
    "    else:\n",
    "        countz=countz+1"
   ]
  },
  {
   "cell_type": "code",
   "execution_count": 19,
   "metadata": {},
   "outputs": [
    {
     "name": "stdout",
     "output_type": "stream",
     "text": [
      "4913\n"
     ]
    }
   ],
   "source": [
    "print(countz)"
   ]
  },
  {
   "cell_type": "code",
   "execution_count": 20,
   "metadata": {
    "scrolled": true
   },
   "outputs": [],
   "source": [
    "from tensorflow.keras.layers import Bidirectional,LSTM,Embedding,Dense\n",
    "kernel_regularizer=tf.keras.regularizers.l2(1e-3)\n",
    "model=tf.keras.Sequential([\n",
    "    Embedding(len(word_index)+1,EMBEDDING_DIM,weights=[embedding_matrix],input_length=MAX_LEN,trainable=False),\n",
    "    Bidirectional(LSTM(128,activation='relu')),\n",
    "    Dense(1,activation='sigmoid')\n",
    "])"
   ]
  },
  {
   "cell_type": "code",
   "execution_count": 21,
   "metadata": {
    "scrolled": true
   },
   "outputs": [],
   "source": [
    "def build_model(model,X_train,Y_train,X_test,Y_test,lr=1e-4,verbose=2,epochs=15):\n",
    "    model.compile(loss=keras.losses.BinaryCrossentropy(),optimizer=tf.keras.optimizers.Adam(lr),metrics=['accuracy'])\n",
    "    model.summary()\n",
    "    history=model.fit(X_train,Y_train,epochs=epochs,validation_data=(X_test,Y_test),batch_size=128,verbose=verbose)\n",
    "    return history"
   ]
  },
  {
   "cell_type": "code",
   "execution_count": 22,
   "metadata": {
    "scrolled": true
   },
   "outputs": [
    {
     "name": "stdout",
     "output_type": "stream",
     "text": [
      "Model: \"sequential\"\n",
      "_________________________________________________________________\n",
      "Layer (type)                 Output Shape              Param #   \n",
      "=================================================================\n",
      "embedding (Embedding)        (None, 25, 100)           1955900   \n",
      "_________________________________________________________________\n",
      "bidirectional (Bidirectional (None, 256)               234496    \n",
      "_________________________________________________________________\n",
      "dense (Dense)                (None, 1)                 257       \n",
      "=================================================================\n",
      "Total params: 2,190,653\n",
      "Trainable params: 234,753\n",
      "Non-trainable params: 1,955,900\n",
      "_________________________________________________________________\n",
      "Train on 6090 samples, validate on 1523 samples\n",
      "Epoch 1/25\n",
      "6090/6090 - 6s - loss: 0.6653 - accuracy: 0.6016 - val_loss: 0.6358 - val_accuracy: 0.7019\n",
      "Epoch 2/25\n",
      "6090/6090 - 2s - loss: 0.5805 - accuracy: 0.7296 - val_loss: 0.5378 - val_accuracy: 0.7636\n",
      "Epoch 3/25\n",
      "6090/6090 - 2s - loss: 0.4963 - accuracy: 0.7833 - val_loss: 0.4906 - val_accuracy: 0.7715\n",
      "Epoch 4/25\n",
      "6090/6090 - 2s - loss: 0.4571 - accuracy: 0.8034 - val_loss: 0.4646 - val_accuracy: 0.7853\n",
      "Epoch 5/25\n",
      "6090/6090 - 3s - loss: 0.4370 - accuracy: 0.8062 - val_loss: 0.4642 - val_accuracy: 0.7886\n",
      "Epoch 6/25\n",
      "6090/6090 - 2s - loss: 0.4324 - accuracy: 0.8122 - val_loss: 0.4631 - val_accuracy: 0.7925\n",
      "Epoch 7/25\n",
      "6090/6090 - 2s - loss: 0.4248 - accuracy: 0.8156 - val_loss: 0.4515 - val_accuracy: 0.7971\n",
      "Epoch 8/25\n",
      "6090/6090 - 2s - loss: 0.4151 - accuracy: 0.8202 - val_loss: 0.4535 - val_accuracy: 0.8004\n",
      "Epoch 9/25\n",
      "6090/6090 - 2s - loss: 0.4091 - accuracy: 0.8245 - val_loss: 0.4557 - val_accuracy: 0.7997\n",
      "Epoch 10/25\n",
      "6090/6090 - 2s - loss: 0.4061 - accuracy: 0.8238 - val_loss: 0.4549 - val_accuracy: 0.8011\n",
      "Epoch 11/25\n",
      "6090/6090 - 3s - loss: 0.4009 - accuracy: 0.8287 - val_loss: 0.4805 - val_accuracy: 0.7945\n",
      "Epoch 12/25\n",
      "6090/6090 - 2s - loss: 0.3962 - accuracy: 0.8296 - val_loss: 0.4452 - val_accuracy: 0.8043\n",
      "Epoch 13/25\n",
      "6090/6090 - 2s - loss: 0.3898 - accuracy: 0.8325 - val_loss: 0.4493 - val_accuracy: 0.8063\n",
      "Epoch 14/25\n",
      "6090/6090 - 3s - loss: 0.3857 - accuracy: 0.8363 - val_loss: 0.4530 - val_accuracy: 0.7991\n",
      "Epoch 15/25\n",
      "6090/6090 - 3s - loss: 0.3847 - accuracy: 0.8337 - val_loss: 0.4400 - val_accuracy: 0.8024\n",
      "Epoch 16/25\n",
      "6090/6090 - 2s - loss: 0.3765 - accuracy: 0.8402 - val_loss: 0.4544 - val_accuracy: 0.8030\n",
      "Epoch 17/25\n",
      "6090/6090 - 2s - loss: 0.3706 - accuracy: 0.8427 - val_loss: 0.4505 - val_accuracy: 0.8004\n",
      "Epoch 18/25\n",
      "6090/6090 - 2s - loss: 0.3710 - accuracy: 0.8440 - val_loss: 0.4462 - val_accuracy: 0.8024\n",
      "Epoch 19/25\n",
      "6090/6090 - 2s - loss: 0.3627 - accuracy: 0.8466 - val_loss: 0.4505 - val_accuracy: 0.8037\n",
      "Epoch 20/25\n",
      "6090/6090 - 2s - loss: 0.3588 - accuracy: 0.8460 - val_loss: 0.4563 - val_accuracy: 0.8056\n",
      "Epoch 21/25\n",
      "6090/6090 - 2s - loss: 0.3568 - accuracy: 0.8460 - val_loss: 0.4655 - val_accuracy: 0.8083\n",
      "Epoch 22/25\n",
      "6090/6090 - 2s - loss: 0.3464 - accuracy: 0.8558 - val_loss: 0.4747 - val_accuracy: 0.8011\n",
      "Epoch 23/25\n",
      "6090/6090 - 2s - loss: 0.3439 - accuracy: 0.8542 - val_loss: 0.5080 - val_accuracy: 0.7938\n",
      "Epoch 24/25\n",
      "6090/6090 - 3s - loss: 0.3367 - accuracy: 0.8611 - val_loss: 0.4757 - val_accuracy: 0.7997\n",
      "Epoch 25/25\n",
      "6090/6090 - 2s - loss: 0.3331 - accuracy: 0.8593 - val_loss: 0.4750 - val_accuracy: 0.8056\n"
     ]
    }
   ],
   "source": [
    "history=build_model(model,X_train,Y_train,X_test,Y_test,lr=1e-4,epochs=25)"
   ]
  },
  {
   "cell_type": "code",
   "execution_count": 23,
   "metadata": {
    "scrolled": true
   },
   "outputs": [],
   "source": [
    "def plot(history):\n",
    "    acc=history.history['accuracy']\n",
    "    val_acc=history.history['val_accuracy']\n",
    "    loss=history.history['loss']\n",
    "    val_loss=history.history['val_loss']\n",
    "    epochs=range(len(acc))\n",
    "    plt.plot(epochs,acc)\n",
    "    plt.plot(epochs,val_acc)\n",
    "    plt.title('Training accuracy and Validation accuracy')\n",
    "    plt.figure()\n",
    "    plt.plot(epochs,loss)\n",
    "    plt.plot(epochs,val_loss)\n",
    "    plt.title('Training and validation loss')"
   ]
  },
  {
   "cell_type": "code",
   "execution_count": 24,
   "metadata": {
    "scrolled": true
   },
   "outputs": [
    {
     "data": {
      "image/png": "[encoded data removed]",
      "text/plain": [
       "<Figure size 432x288 with 1 Axes>"
      ]
     },
     "metadata": {
      "needs_background": "light"
     },
     "output_type": "display_data"
    },
    {
     "data": {
      "image/png": "[encoded data removed]",
      "text/plain": [
       "<Figure size 432x288 with 1 Axes>"
      ]
     },
     "metadata": {
      "needs_background": "light"
     },
     "output_type": "display_data"
    }
   ],
   "source": [
    "plot(history)"
   ]
  },
  {
   "cell_type": "code",
   "execution_count": 25,
   "metadata": {},
   "outputs": [],
   "source": [
    "sequences=tokenizer.texts_to_sequences(preprocessed_text_test)\n",
    "data_for_test=pad_sequences(sequences,maxlen=MAX_LEN)"
   ]
  },
  {
   "cell_type": "code",
   "execution_count": 26,
   "metadata": {},
   "outputs": [
    {
     "data": {
      "text/plain": [
       "array([   0,    0,    0,    0,    0,    0,    0,    0,    0,    0,    0,\n",
       "          0,    0,    0,    0,    0,    0,    0,    0,   34,  768,    5,\n",
       "       1484,  128,   94], dtype=int32)"
      ]
     },
     "execution_count": 26,
     "metadata": {},
     "output_type": "execute_result"
    }
   ],
   "source": [
    "data_for_test[0]"
   ]
  },
  {
   "cell_type": "code",
   "execution_count": 27,
   "metadata": {},
   "outputs": [],
   "source": [
    "probs=model.predict(data_for_test)"
   ]
  },
  {
   "cell_type": "code",
   "execution_count": 28,
   "metadata": {},
   "outputs": [],
   "source": [
    "output_labels=[]\n",
    "for x in probs:\n",
    "    if x>=0.5:\n",
    "        output_labels.append(1)\n",
    "    else:\n",
    "        output_labels.append(0)"
   ]
  },
  {
   "cell_type": "code",
   "execution_count": 29,
   "metadata": {},
   "outputs": [],
   "source": [
    "submission=pd.read_csv('/kaggle/input/nlp-getting-started/sample_submission.csv')\n",
    "submission['id']=test_df['id']\n",
    "submission['target']=output_labels"
   ]
  },
  {
   "cell_type": "code",
   "execution_count": 30,
   "metadata": {},
   "outputs": [
    {
     "data": {
      "text/html": [
       "<div>\n",
       "<style scoped>\n",
       "    .dataframe tbody tr th:only-of-type {\n",
       "        vertical-align: middle;\n",
       "    }\n",
       "\n",
       "    .dataframe tbody tr th {\n",
       "        vertical-align: top;\n",
       "    }\n",
       "\n",
       "    .dataframe thead th {\n",
       "        text-align: right;\n",
       "    }\n",
       "</style>\n",
       "<table border=\"1\" class=\"dataframe\">\n",
       "  <thead>\n",
       "    <tr style=\"text-align: right;\">\n",
       "      <th></th>\n",
       "      <th>id</th>\n",
       "      <th>target</th>\n",
       "    </tr>\n",
       "  </thead>\n",
       "  <tbody>\n",
       "    <tr>\n",
       "      <th>0</th>\n",
       "      <td>0</td>\n",
       "      <td>1</td>\n",
       "    </tr>\n",
       "    <tr>\n",
       "      <th>1</th>\n",
       "      <td>2</td>\n",
       "      <td>1</td>\n",
       "    </tr>\n",
       "    <tr>\n",
       "      <th>2</th>\n",
       "      <td>3</td>\n",
       "      <td>1</td>\n",
       "    </tr>\n",
       "    <tr>\n",
       "      <th>3</th>\n",
       "      <td>9</td>\n",
       "      <td>1</td>\n",
       "    </tr>\n",
       "    <tr>\n",
       "      <th>4</th>\n",
       "      <td>11</td>\n",
       "      <td>1</td>\n",
       "    </tr>\n",
       "  </tbody>\n",
       "</table>\n",
       "</div>"
      ],
      "text/plain": [
       "   id  target\n",
       "0   0       1\n",
       "1   2       1\n",
       "2   3       1\n",
       "3   9       1\n",
       "4  11       1"
      ]
     },
     "execution_count": 30,
     "metadata": {},
     "output_type": "execute_result"
    }
   ],
   "source": [
    "submission.head()"
   ]
  },
  {
   "cell_type": "code",
   "execution_count": 31,
   "metadata": {},
   "outputs": [
    {
     "data": {
      "text/plain": [
       "0    2068\n",
       "1    1195\n",
       "Name: target, dtype: int64"
      ]
     },
     "execution_count": 31,
     "metadata": {},
     "output_type": "execute_result"
    }
   ],
   "source": [
    "submission['target'].value_counts()"
   ]
  },
  {
   "cell_type": "code",
   "execution_count": 32,
   "metadata": {},
   "outputs": [],
   "source": [
    "submission.to_csv('submission.csv',index=False)"
   ]
  }
 ],
 "metadata": {
  "kernelspec": {
   "display_name": "Python 3",
   "language": "python",
   "name": "python3"
  },
  "language_info": {
   "codemirror_mode": {
    "name": "ipython",
    "version": 3
   },
   "file_extension": ".py",
   "mimetype": "text/x-python",
   "name": "python",
   "nbconvert_exporter": "python",
   "pygments_lexer": "ipython3",
   "version": "3.7.1"
  }
 },
 "nbformat": 4,
 "nbformat_minor": 4
}
